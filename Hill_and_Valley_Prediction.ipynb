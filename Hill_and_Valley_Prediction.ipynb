{
  "nbformat": 4,
  "nbformat_minor": 0,
  "metadata": {
    "colab": {
      "provenance": []
    },
    "kernelspec": {
      "name": "python3",
      "display_name": "Python 3"
    },
    "language_info": {
      "name": "python"
    }
  },
  "cells": [
    {
      "cell_type": "markdown",
      "source": [
        "# **Hill and Valley Prediction with Logistic Regression**"
      ],
      "metadata": {
        "id": "W_A8wICGQDjp"
      }
    },
    {
      "cell_type": "markdown",
      "source": [
        "## **Title of Project**"
      ],
      "metadata": {
        "id": "EDC0-6AVQKNa"
      }
    },
    {
      "cell_type": "markdown",
      "source": [
        "Hill and Valley Prediction Using Logistic Regression"
      ],
      "metadata": {
        "id": "jXFfP5zRQPfL"
      }
    },
    {
      "cell_type": "markdown",
      "source": [
        "## **Objective**"
      ],
      "metadata": {
        "id": "-XDVp3DgQT6c"
      }
    },
    {
      "cell_type": "markdown",
      "source": [
        "The objective of this project is to develop a logistic regression model to predict whether a given set of features represents a hill or a valley."
      ],
      "metadata": {
        "id": "bDbzmPofQc8q"
      }
    },
    {
      "cell_type": "markdown",
      "source": [
        "## **Data Source**"
      ],
      "metadata": {
        "id": "YfkgOglfQg1q"
      }
    },
    {
      "cell_type": "markdown",
      "source": [
        "The dataset is sourced from the YBI Foundation's GitHub repository: Hill Valley Dataset."
      ],
      "metadata": {
        "id": "3A59m6kJQmXy"
      }
    },
    {
      "cell_type": "markdown",
      "source": [
        "## **Import Library**"
      ],
      "metadata": {
        "id": "Pj-DvYbIQ11p"
      }
    },
    {
      "cell_type": "code",
      "source": [
        "import pandas as pd\n",
        "import numpy as np\n",
        "from sklearn.model_selection import train_test_split\n",
        "from sklearn.preprocessing import StandardScaler\n",
        "from sklearn.linear_model import LogisticRegression\n",
        "from sklearn.metrics import confusion_matrix, accuracy_score, classification_report\n",
        "import matplotlib.pyplot as plt\n",
        "import seaborn as sns\n"
      ],
      "metadata": {
        "id": "Zb7nn_L9P8UD"
      },
      "execution_count": 45,
      "outputs": []
    },
    {
      "cell_type": "markdown",
      "source": [
        "## **Import Data**"
      ],
      "metadata": {
        "id": "iVVD0725Q7a6"
      }
    },
    {
      "cell_type": "code",
      "source": [
        "# Load data\n",
        "data = pd.read_csv('https://github.com/YBI-Foundation/Dataset/raw/main/Hill%20Valley%20Dataset.csv')"
      ],
      "metadata": {
        "id": "zcHMtPjVQ4XU"
      },
      "execution_count": 46,
      "outputs": []
    },
    {
      "cell_type": "markdown",
      "source": [
        "## **Describe Data**"
      ],
      "metadata": {
        "id": "XFjiFhyLRQ4a"
      }
    },
    {
      "cell_type": "code",
      "source": [
        "# Display the first few rows of the dataset\n",
        "print(data.head())\n",
        "\n",
        "# Get a concise summary of the DataFrame\n",
        "print(data.info())\n",
        "\n",
        "# Get descriptive statistics\n",
        "print(data.describe())\n",
        "\n",
        "# Check the distribution of the target variable\n",
        "print(data['Class'].value_counts())"
      ],
      "metadata": {
        "colab": {
          "base_uri": "https://localhost:8080/"
        },
        "id": "Ij5eyVHJRNIx",
        "outputId": "a35865bd-d709-4c8c-a588-fe796761bac3"
      },
      "execution_count": 47,
      "outputs": [
        {
          "output_type": "stream",
          "name": "stdout",
          "text": [
            "         V1        V2        V3        V4        V5        V6        V7  \\\n",
            "0     39.02     36.49     38.20     38.85     39.38     39.74     37.02   \n",
            "1      1.83      1.71      1.77      1.77      1.68      1.78      1.80   \n",
            "2  68177.69  66138.42  72981.88  74304.33  67549.66  69367.34  69169.41   \n",
            "3  44889.06  39191.86  40728.46  38576.36  45876.06  47034.00  46611.43   \n",
            "4      5.70      5.40      5.28      5.38      5.27      5.61      6.00   \n",
            "\n",
            "         V8        V9       V10  ...       V92       V93       V94       V95  \\\n",
            "0     39.53     38.81     38.79  ...     36.62     36.92     38.80     38.52   \n",
            "1      1.70      1.75      1.78  ...      1.80      1.79      1.77      1.74   \n",
            "2  73268.61  74465.84  72503.37  ...  73438.88  71053.35  71112.62  74916.48   \n",
            "3  37668.32  40980.89  38466.15  ...  42625.67  40684.20  46960.73  44546.80   \n",
            "4      5.38      5.34      5.87  ...      5.17      5.67      5.60      5.94   \n",
            "\n",
            "        V96       V97       V98       V99      V100  Class  \n",
            "0     38.07     36.73     39.46     37.50     39.10      0  \n",
            "1      1.74      1.80      1.78      1.75      1.69      1  \n",
            "2  72571.58  66348.97  71063.72  67404.27  74920.24      1  \n",
            "3  45410.53  47139.44  43095.68  40888.34  39615.19      0  \n",
            "4      5.73      5.22      5.30      5.73      5.91      0  \n",
            "\n",
            "[5 rows x 101 columns]\n",
            "<class 'pandas.core.frame.DataFrame'>\n",
            "RangeIndex: 1212 entries, 0 to 1211\n",
            "Columns: 101 entries, V1 to Class\n",
            "dtypes: float64(100), int64(1)\n",
            "memory usage: 956.5 KB\n",
            "None\n",
            "                  V1             V2             V3             V4  \\\n",
            "count    1212.000000    1212.000000    1212.000000    1212.000000   \n",
            "mean     8169.091881    8144.306262    8192.653738    8176.868738   \n",
            "std     17974.950461   17881.049734   18087.938901   17991.903982   \n",
            "min         0.920000       0.900000       0.850000       0.890000   \n",
            "25%        19.602500      19.595000      18.925000      19.277500   \n",
            "50%       301.425000     295.205000     297.260000     299.720000   \n",
            "75%      5358.795000    5417.847500    5393.367500    5388.482500   \n",
            "max    117807.870000  108896.480000  119031.350000  110212.590000   \n",
            "\n",
            "                  V5             V6             V7             V8  \\\n",
            "count    1212.000000    1212.000000    1212.000000    1212.000000   \n",
            "mean     8128.297211    8173.030008    8188.582748    8183.641543   \n",
            "std     17846.757963   17927.114105   18029.562695   18048.582159   \n",
            "min         0.880000       0.860000       0.870000       0.650000   \n",
            "25%        19.210000      19.582500      18.690000      19.062500   \n",
            "50%       295.115000     294.380000     295.935000     290.850000   \n",
            "75%      5321.987500    5328.040000    5443.977500    5283.655000   \n",
            "max    113000.470000  116848.390000  115609.240000  118522.320000   \n",
            "\n",
            "                  V9            V10  ...            V92            V93  \\\n",
            "count    1212.000000    1212.000000  ...    1212.000000    1212.000000   \n",
            "mean     8154.670066    8120.767574  ...    8120.056815    8125.917409   \n",
            "std     17982.390713   17900.798206  ...   17773.190621   17758.182403   \n",
            "min         0.650000       0.620000  ...       0.870000       0.900000   \n",
            "25%        19.532500      19.285000  ...      19.197500      18.895000   \n",
            "50%       294.565000     295.160000  ...     297.845000     295.420000   \n",
            "75%      5378.180000    5319.097500  ...    5355.355000    5386.037500   \n",
            "max    112895.900000  117798.300000  ...  113858.680000  112948.830000   \n",
            "\n",
            "                 V94            V95            V96            V97  \\\n",
            "count    1212.000000    1212.000000    1212.000000    1212.000000   \n",
            "mean     8158.793812    8140.885421    8213.480611    8185.594002   \n",
            "std     17919.510371   17817.945646   18016.445265   17956.084223   \n",
            "min         0.870000       0.880000       0.890000       0.890000   \n",
            "25%        19.237500      19.385000      19.027500      19.135000   \n",
            "50%       299.155000     293.355000     301.370000     296.960000   \n",
            "75%      5286.385000    5345.797500    5300.890000    5361.047500   \n",
            "max    112409.570000  112933.730000  112037.220000  115110.420000   \n",
            "\n",
            "                 V98            V99           V100        Class  \n",
            "count    1212.000000    1212.000000    1212.000000  1212.000000  \n",
            "mean     8140.195355    8192.960891    8156.197376     0.500000  \n",
            "std     17768.356106   18064.781479   17829.310973     0.500206  \n",
            "min         0.860000       0.910000       0.890000     0.000000  \n",
            "25%        19.205000      18.812500      19.145000     0.000000  \n",
            "50%       300.925000     299.200000     302.275000     0.500000  \n",
            "75%      5390.850000    5288.712500    5357.847500     1.000000  \n",
            "max    116431.960000  113291.960000  114533.760000     1.000000  \n",
            "\n",
            "[8 rows x 101 columns]\n",
            "Class\n",
            "0    606\n",
            "1    606\n",
            "Name: count, dtype: int64\n"
          ]
        }
      ]
    },
    {
      "cell_type": "markdown",
      "source": [
        "## **Data Visualization**"
      ],
      "metadata": {
        "id": "YtlnX2SHRbxi"
      }
    },
    {
      "cell_type": "code",
      "source": [
        "# Plot the distribution of the target variable\n",
        "sns.countplot(x='Class', data=data)\n",
        "plt.title('Distribution of Classes')\n",
        "plt.show()"
      ],
      "metadata": {
        "colab": {
          "base_uri": "https://localhost:8080/",
          "height": 472
        },
        "id": "AR79HdDJRT8x",
        "outputId": "ad4dd26b-bf58-4e5b-b6c4-8437f69ded91"
      },
      "execution_count": 81,
      "outputs": [
        {
          "output_type": "display_data",
          "data": {
            "text/plain": [
              "<Figure size 640x480 with 1 Axes>"
            ],
            "image/png": "[encoded data removed]"
          },
          "metadata": {}
        }
      ]
    },
    {
      "cell_type": "markdown",
      "source": [
        "## **Data Preprocessing**"
      ],
      "metadata": {
        "id": "KSEB5KQIRn6j"
      }
    },
    {
      "cell_type": "code",
      "source": [
        "# Separate target variable 'Class' from feature variables\n",
        "y = data['Class']\n",
        "X = data.drop(['Class'], axis=1)\n",
        "\n",
        "# Scale features\n",
        "scaler = StandardScaler()\n",
        "X_scaled = scaler.fit_transform(X)\n"
      ],
      "metadata": {
        "id": "0i4UbQZ8Reo5"
      },
      "execution_count": 82,
      "outputs": []
    },
    {
      "cell_type": "markdown",
      "source": [
        "## **Define Target Variable (y) and Feature Variables (X)**"
      ],
      "metadata": {
        "id": "5ESRNwhkRtQD"
      }
    },
    {
      "cell_type": "code",
      "source": [
        "# Target variable\n",
        "y = data['Class']\n",
        "\n",
        "# Feature variables\n",
        "X = data.drop(['Class'], axis=1)"
      ],
      "metadata": {
        "id": "XoKfgZnlRqH6"
      },
      "execution_count": 83,
      "outputs": []
    },
    {
      "cell_type": "markdown",
      "source": [
        "## **Train Test Split**"
      ],
      "metadata": {
        "id": "Od6GxvxRRz4x"
      }
    },
    {
      "cell_type": "code",
      "source": [
        "# Split the data into training and testing sets\n",
        "X_train, X_test, y_train, y_test = train_test_split(X_scaled, y, test_size=0.3, random_state=10)\n",
        "\n",
        "# Check the shape of the train and test samples\n",
        "print(X_train.shape, X_test.shape, y_train.shape, y_test.shape)"
      ],
      "metadata": {
        "colab": {
          "base_uri": "https://localhost:8080/"
        },
        "id": "iAV12TgHRwWK",
        "outputId": "0b4610d7-f42e-41ec-d262-62b938a2d9a1"
      },
      "execution_count": 84,
      "outputs": [
        {
          "output_type": "stream",
          "name": "stdout",
          "text": [
            "(848, 100) (364, 100) (848,) (364,)\n"
          ]
        }
      ]
    },
    {
      "cell_type": "markdown",
      "source": [
        "## **Modeling**"
      ],
      "metadata": {
        "id": "H3Vybh6WSCj6"
      }
    },
    {
      "cell_type": "code",
      "source": [
        "# Initialize the Logistic Regression model\n",
        "model = LogisticRegression(max_iter=1000)\n",
        "\n",
        "# Train the model\n",
        "model.fit(X_train, y_train)"
      ],
      "metadata": {
        "colab": {
          "base_uri": "https://localhost:8080/",
          "height": 75
        },
        "id": "jJaASyDPR4lB",
        "outputId": "1b8b0aea-79f6-4687-c0ab-1a3e6a63a5d2"
      },
      "execution_count": 85,
      "outputs": [
        {
          "output_type": "execute_result",
          "data": {
            "text/plain": [
              "LogisticRegression(max_iter=1000)"
            ],
            "text/html": [
              "<style>#sk-container-id-9 {color: black;background-color: white;}#sk-container-id-9 pre{padding: 0;}#sk-container-id-9 div.sk-toggleable {background-color: white;}#sk-container-id-9 label.sk-toggleable__label {cursor: pointer;display: block;width: 100%;margin-bottom: 0;padding: 0.3em;box-sizing: border-box;text-align: center;}#sk-container-id-9 label.sk-toggleable__label-arrow:before {content: \"▸\";float: left;margin-right: 0.25em;color: #696969;}#sk-container-id-9 label.sk-toggleable__label-arrow:hover:before {color: black;}#sk-container-id-9 div.sk-estimator:hover label.sk-toggleable__label-arrow:before {color: black;}#sk-container-id-9 div.sk-toggleable__content {max-height: 0;max-width: 0;overflow: hidden;text-align: left;background-color: #f0f8ff;}#sk-container-id-9 div.sk-toggleable__content pre {margin: 0.2em;color: black;border-radius: 0.25em;background-color: #f0f8ff;}#sk-container-id-9 input.sk-toggleable__control:checked~div.sk-toggleable__content {max-height: 200px;max-width: 100%;overflow: auto;}#sk-container-id-9 input.sk-toggleable__control:checked~label.sk-toggleable__label-arrow:before {content: \"▾\";}#sk-container-id-9 div.sk-estimator input.sk-toggleable__control:checked~label.sk-toggleable__label {background-color: #d4ebff;}#sk-container-id-9 div.sk-label input.sk-toggleable__control:checked~label.sk-toggleable__label {background-color: #d4ebff;}#sk-container-id-9 input.sk-hidden--visually {border: 0;clip: rect(1px 1px 1px 1px);clip: rect(1px, 1px, 1px, 1px);height: 1px;margin: -1px;overflow: hidden;padding: 0;position: absolute;width: 1px;}#sk-container-id-9 div.sk-estimator {font-family: monospace;background-color: #f0f8ff;border: 1px dotted black;border-radius: 0.25em;box-sizing: border-box;margin-bottom: 0.5em;}#sk-container-id-9 div.sk-estimator:hover {background-color: #d4ebff;}#sk-container-id-9 div.sk-parallel-item::after {content: \"\";width: 100%;border-bottom: 1px solid gray;flex-grow: 1;}#sk-container-id-9 div.sk-label:hover label.sk-toggleable__label {background-color: #d4ebff;}#sk-container-id-9 div.sk-serial::before {content: \"\";position: absolute;border-left: 1px solid gray;box-sizing: border-box;top: 0;bottom: 0;left: 50%;z-index: 0;}#sk-container-id-9 div.sk-serial {display: flex;flex-direction: column;align-items: center;background-color: white;padding-right: 0.2em;padding-left: 0.2em;position: relative;}#sk-container-id-9 div.sk-item {position: relative;z-index: 1;}#sk-container-id-9 div.sk-parallel {display: flex;align-items: stretch;justify-content: center;background-color: white;position: relative;}#sk-container-id-9 div.sk-item::before, #sk-container-id-9 div.sk-parallel-item::before {content: \"\";position: absolute;border-left: 1px solid gray;box-sizing: border-box;top: 0;bottom: 0;left: 50%;z-index: -1;}#sk-container-id-9 div.sk-parallel-item {display: flex;flex-direction: column;z-index: 1;position: relative;background-color: white;}#sk-container-id-9 div.sk-parallel-item:first-child::after {align-self: flex-end;width: 50%;}#sk-container-id-9 div.sk-parallel-item:last-child::after {align-self: flex-start;width: 50%;}#sk-container-id-9 div.sk-parallel-item:only-child::after {width: 0;}#sk-container-id-9 div.sk-dashed-wrapped {border: 1px dashed gray;margin: 0 0.4em 0.5em 0.4em;box-sizing: border-box;padding-bottom: 0.4em;background-color: white;}#sk-container-id-9 div.sk-label label {font-family: monospace;font-weight: bold;display: inline-block;line-height: 1.2em;}#sk-container-id-9 div.sk-label-container {text-align: center;}#sk-container-id-9 div.sk-container {/* jupyter's `normalize.less` sets `[hidden] { display: none; }` but bootstrap.min.css set `[hidden] { display: none !important; }` so we also need the `!important` here to be able to override the default hidden behavior on the sphinx rendered scikit-learn.org. See: https://github.com/scikit-learn/scikit-learn/issues/21755 */display: inline-block !important;position: relative;}#sk-container-id-9 div.sk-text-repr-fallback {display: none;}</style><div id=\"sk-container-id-9\" class=\"sk-top-container\"><div class=\"sk-text-repr-fallback\"><pre>LogisticRegression(max_iter=1000)</pre><b>In a Jupyter environment, please rerun this cell to show the HTML representation or trust the notebook. <br />On GitHub, the HTML representation is unable to render, please try loading this page with nbviewer.org.</b></div><div class=\"sk-container\" hidden><div class=\"sk-item\"><div class=\"sk-estimator sk-toggleable\"><input class=\"sk-toggleable__control sk-hidden--visually\" id=\"sk-estimator-id-9\" type=\"checkbox\" checked><label for=\"sk-estimator-id-9\" class=\"sk-toggleable__label sk-toggleable__label-arrow\">LogisticRegression</label><div class=\"sk-toggleable__content\"><pre>LogisticRegression(max_iter=1000)</pre></div></div></div></div></div>"
            ]
          },
          "metadata": {},
          "execution_count": 85
        }
      ]
    },
    {
      "cell_type": "markdown",
      "source": [
        "## **Model Evaluation**"
      ],
      "metadata": {
        "id": "fXoHjlycSI4y"
      }
    },
    {
      "cell_type": "code",
      "source": [
        "# Predict on the test set\n",
        "y_pred = model.predict(X_test)\n",
        "\n",
        "# Confusion matrix\n",
        "conf_matrix = confusion_matrix(y_test, y_pred)\n",
        "print(\"Confusion Matrix:\\n\", conf_matrix)\n",
        "\n",
        "# Accuracy\n",
        "accuracy = accuracy_score(y_test, y_pred)\n",
        "print(\"Accuracy:\", accuracy)\n",
        "\n",
        "# Classification report\n",
        "class_report = classification_report(y_test, y_pred)\n",
        "print(\"Classification Report:\\n\", class_report)"
      ],
      "metadata": {
        "colab": {
          "base_uri": "https://localhost:8080/"
        },
        "id": "TMVJI9oqSE9O",
        "outputId": "18287b0d-f440-451b-ce38-33f1f1e2172b"
      },
      "execution_count": 86,
      "outputs": [
        {
          "output_type": "stream",
          "name": "stdout",
          "text": [
            "Confusion Matrix:\n",
            " [[172  16]\n",
            " [ 44 132]]\n",
            "Accuracy: 0.8351648351648352\n",
            "Classification Report:\n",
            "               precision    recall  f1-score   support\n",
            "\n",
            "           0       0.80      0.91      0.85       188\n",
            "           1       0.89      0.75      0.81       176\n",
            "\n",
            "    accuracy                           0.84       364\n",
            "   macro avg       0.84      0.83      0.83       364\n",
            "weighted avg       0.84      0.84      0.83       364\n",
            "\n"
          ]
        }
      ]
    },
    {
      "cell_type": "markdown",
      "source": [
        "## **Prediction**"
      ],
      "metadata": {
        "id": "FtS3tGU6SYVa"
      }
    },
    {
      "cell_type": "code",
      "source": [
        "# Example prediction on new data (use X_test as an example)\n",
        "new_predictions = model.predict(X_test)\n",
        "print(\"New Predictions:\", new_predictions)"
      ],
      "metadata": {
        "colab": {
          "base_uri": "https://localhost:8080/"
        },
        "id": "BG7yXQ6USOVM",
        "outputId": "4c4f5ce4-3fd9-465f-c187-21a25f4396b0"
      },
      "execution_count": 88,
      "outputs": [
        {
          "output_type": "stream",
          "name": "stdout",
          "text": [
            "New Predictions: [0 0 1 1 1 1 0 0 0 1 1 0 1 1 0 1 1 0 1 1 1 1 0 0 1 1 0 1 0 0 0 0 1 0 0 1 0\n",
            " 1 0 0 0 1 0 0 0 0 0 1 1 0 1 1 1 0 1 1 0 1 1 0 1 1 0 1 0 1 0 1 1 0 0 1 1 1\n",
            " 0 1 1 1 0 0 0 0 0 1 0 0 0 1 0 0 0 1 0 0 0 1 1 0 0 0 0 0 1 0 1 0 0 1 1 1 0\n",
            " 1 0 0 0 0 0 1 1 1 1 1 1 0 0 1 0 1 1 0 0 0 1 1 0 1 0 1 0 0 0 0 0 0 1 0 0 0\n",
            " 0 1 0 0 1 0 1 0 1 1 1 1 0 0 0 0 1 0 0 0 0 1 1 1 0 0 1 0 0 0 1 1 0 1 0 1 1\n",
            " 1 0 1 1 0 1 1 0 0 0 0 0 1 0 0 0 0 0 0 0 1 0 1 0 0 0 0 0 0 0 1 1 1 0 1 0 0\n",
            " 1 0 0 0 0 0 0 0 1 1 0 0 0 0 0 0 0 0 0 1 0 1 1 0 1 0 0 1 1 1 1 1 1 1 1 1 1\n",
            " 0 1 0 0 0 0 0 0 0 1 1 0 1 0 0 0 1 0 0 0 0 0 1 0 0 0 1 0 0 1 0 1 0 0 0 0 0\n",
            " 0 0 0 0 1 1 1 0 1 0 0 0 0 0 1 1 1 1 0 0 0 0 1 0 0 0 1 1 0 0 0 0 0 0 0 1 0\n",
            " 1 1 0 0 1 1 0 0 0 1 1 1 1 0 1 0 1 0 0 0 1 0 1 0 1 0 0 0 0 1 0]\n"
          ]
        }
      ]
    },
    {
      "cell_type": "markdown",
      "source": [
        "## **Explanation**"
      ],
      "metadata": {
        "id": "6-Dhcwn8S39a"
      }
    },
    {
      "cell_type": "markdown",
      "source": [
        "This project demonstrates the process of building a logistic regression model to classify data points as either hill or valley. The dataset is preprocessed by scaling the feature variables. The logistic regression model is then trained on the training set and evaluated on the test set. The model's performance is measured using metrics such as accuracy, confusion matrix, and classification report. This workflow provides a solid foundation for binary classification tasks in machine learning."
      ],
      "metadata": {
        "id": "FJRIskriS7RL"
      }
    }
  ]
}